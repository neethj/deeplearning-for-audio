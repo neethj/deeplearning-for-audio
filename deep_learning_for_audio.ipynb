{
  "nbformat": 4,
  "nbformat_minor": 0,
  "metadata": {
    "colab": {
      "provenance": []
    },
    "kernelspec": {
      "name": "python3",
      "display_name": "Python 3"
    },
    "language_info": {
      "name": "python"
    }
  },
  "cells": [
    {
      "cell_type": "markdown",
      "source": [
        "implementing an artificial neuron\n"
      ],
      "metadata": {
        "id": "DUmmOUKTzSgS"
      }
    },
    {
      "cell_type": "code",
      "source": [
        "import math"
      ],
      "metadata": {
        "id": "jX43eO2QE2EL"
      },
      "execution_count": null,
      "outputs": []
    },
    {
      "cell_type": "code",
      "source": [
        "def sigmoid(x):\n",
        "  y = 1.0 / (1 + math.exp(-x))\n",
        "  return y"
      ],
      "metadata": {
        "id": "dYp8tnh8E-c9"
      },
      "execution_count": null,
      "outputs": []
    },
    {
      "cell_type": "code",
      "source": [
        "def activate(inputs, weights):\n",
        "  h = 0\n",
        "  for x, w in zip(inputs, weights):\n",
        "    h += x*w\n",
        "  return sigmoid(h)"
      ],
      "metadata": {
        "id": "w2yvpRt68hwq"
      },
      "execution_count": null,
      "outputs": []
    },
    {
      "cell_type": "code",
      "execution_count": null,
      "metadata": {
        "colab": {
          "base_uri": "https://localhost:8080/"
        },
        "id": "HwHNDzuHiY4H",
        "outputId": "d9b60401-4f83-4033-cd1d-3259503f8ae4"
      },
      "outputs": [
        {
          "output_type": "stream",
          "name": "stdout",
          "text": [
            "0.610639233949222\n"
          ]
        }
      ],
      "source": [
        "\n",
        "inputs = [.5, .3, .2]\n",
        "weights = [.4, .7, .2]\n",
        "output = activate(inputs, weights)\n",
        "print(output)"
      ]
    },
    {
      "cell_type": "markdown",
      "source": [
        "So this is our first artificial neuron implemented in python from scratch :)"
      ],
      "metadata": {
        "id": "fvVVyNK4FeDw"
      }
    },
    {
      "cell_type": "markdown",
      "source": [
        "Linear algebra\n",
        "\n",
        "Vector : array of numbers"
      ],
      "metadata": {
        "id": "2TGdZlpQ5PhK"
      }
    },
    {
      "cell_type": "markdown",
      "source": [
        "scalar operations = vector + a number"
      ],
      "metadata": {
        "id": "ZQRBYI216SjU"
      }
    },
    {
      "cell_type": "markdown",
      "source": [
        "vector addition : two vectors must have same dimension"
      ],
      "metadata": {
        "id": "2QQeD0xvjXMU"
      }
    },
    {
      "cell_type": "markdown",
      "source": [
        "dot product : two vectors mutliplied and the result is scalar"
      ],
      "metadata": {
        "id": "iY_C9voqjxyn"
      }
    },
    {
      "cell_type": "markdown",
      "source": [
        "row vector is indicated by (1,n) matrix\n",
        "column vector is indicated by (n,1) matrix"
      ],
      "metadata": {
        "id": "P-sjg7EFuSR0"
      }
    },
    {
      "cell_type": "markdown",
      "source": [
        "matrix transpose means switching rows and columns"
      ],
      "metadata": {
        "id": "ee8dnMjquxg4"
      }
    },
    {
      "cell_type": "markdown",
      "source": [
        "Matrix multiplication: number of rows in the first matrix and number of columns in the second matrix"
      ],
      "metadata": {
        "id": "eHPnPDlmwEsN"
      }
    },
    {
      "cell_type": "markdown",
      "source": [
        "neural network implementation"
      ],
      "metadata": {
        "id": "lX9wPRzxzsoI"
      }
    },
    {
      "cell_type": "code",
      "source": [
        "import numpy as np"
      ],
      "metadata": {
        "id": "ljV_66r1FnHh"
      },
      "execution_count": 1,
      "outputs": []
    },
    {
      "cell_type": "code",
      "source": [
        "class MLP:\n",
        "  def __init__(self,num_inputs=3, num_hidden=[3,5], num_outputs=2):\n",
        "      self.num_inputs = num_inputs #stores these parameters internally\n",
        "      self.num_hidden = num_hidden\n",
        "      self.num_hidden = num_outputs\n",
        "\n",
        "      layers = [self.num_inputs] + [self.num_hidden] + [self.num_outputs] #getting a list where each items represents  number of neurons in a layer\n",
        "\n",
        "      #initiate random weights ( a neural networks needs random weights in the connections)\n",
        "\n",
        "      self.weights = []\n",
        "      for i in range(len(layers)-1):\n",
        "          w = np.random.rand(layers[i], layers[i+1])\n",
        "          self.weights.append(w)\n",
        "\n",
        "  def forward_propogate(self,inputs):\n",
        "\n",
        "      activations = inputs\n",
        "\n",
        "      for w in self.weights:\n",
        "\n",
        "        #calculate the net input for a given layer\n",
        "        net_input = np.dot(activations, w)\n",
        "\n",
        "        #calculate activation\n",
        "        activation = self._sigmoid(net_inputs)\n",
        "      return activations\n",
        "\n",
        "\n",
        "  def _sigmoid(self, x):\n",
        "    return 1 / (1 + np.ex(-x))\n",
        "\n",
        "\n",
        "\n",
        ""
      ],
      "metadata": {
        "id": "XDkGRc_IgHvY"
      },
      "execution_count": 7,
      "outputs": []
    },
    {
      "cell_type": "code",
      "source": [],
      "metadata": {
        "id": "UAMjzCOvr68J"
      },
      "execution_count": null,
      "outputs": []
    },
    {
      "cell_type": "code",
      "source": [
        "mlp = MLP()\n",
        "# create some inputs\n",
        "inputs = np.random.rand(mlp.num_inputs)\n",
        "\n",
        "#perform forward propogation\n",
        "outputs = mlp.forwards_propogate(inputs)\n",
        "\n",
        "\n",
        "print(\"input is {}\".format(inputs))\n",
        "print(\"output is {}\".format(outputs))\n"
      ],
      "metadata": {
        "colab": {
          "base_uri": "https://localhost:8080/",
          "height": 378
        },
        "id": "CXryqOHrq4Mm",
        "outputId": "f6411d60-121a-495a-8b67-18a395a237d7"
      },
      "execution_count": 9,
      "outputs": [
        {
          "output_type": "error",
          "ename": "AttributeError",
          "evalue": "ignored",
          "traceback": [
            "\u001b[0;31m---------------------------------------------------------------------------\u001b[0m",
            "\u001b[0;31mAttributeError\u001b[0m                            Traceback (most recent call last)",
            "\u001b[0;32m<ipython-input-9-ad1b7c9692aa>\u001b[0m in \u001b[0;36m<cell line: 1>\u001b[0;34m()\u001b[0m\n\u001b[0;32m----> 1\u001b[0;31m \u001b[0mmlp\u001b[0m \u001b[0;34m=\u001b[0m \u001b[0mMLP\u001b[0m\u001b[0;34m(\u001b[0m\u001b[0;34m)\u001b[0m\u001b[0;34m\u001b[0m\u001b[0;34m\u001b[0m\u001b[0m\n\u001b[0m\u001b[1;32m      2\u001b[0m \u001b[0;31m# create some inputs\u001b[0m\u001b[0;34m\u001b[0m\u001b[0;34m\u001b[0m\u001b[0m\n\u001b[1;32m      3\u001b[0m \u001b[0minputs\u001b[0m \u001b[0;34m=\u001b[0m \u001b[0mnp\u001b[0m\u001b[0;34m.\u001b[0m\u001b[0mrandom\u001b[0m\u001b[0;34m.\u001b[0m\u001b[0mrand\u001b[0m\u001b[0;34m(\u001b[0m\u001b[0mmlp\u001b[0m\u001b[0;34m.\u001b[0m\u001b[0mnum_inputs\u001b[0m\u001b[0;34m)\u001b[0m\u001b[0;34m\u001b[0m\u001b[0;34m\u001b[0m\u001b[0m\n\u001b[1;32m      4\u001b[0m \u001b[0;34m\u001b[0m\u001b[0m\n\u001b[1;32m      5\u001b[0m \u001b[0;31m#perform forward propogation\u001b[0m\u001b[0;34m\u001b[0m\u001b[0;34m\u001b[0m\u001b[0m\n",
            "\u001b[0;32m<ipython-input-7-c3d45bca7030>\u001b[0m in \u001b[0;36m__init__\u001b[0;34m(self, num_inputs, num_hidden, num_outputs)\u001b[0m\n\u001b[1;32m      5\u001b[0m       \u001b[0mself\u001b[0m\u001b[0;34m.\u001b[0m\u001b[0mnum_hidden\u001b[0m \u001b[0;34m=\u001b[0m \u001b[0mnum_outputs\u001b[0m\u001b[0;34m\u001b[0m\u001b[0;34m\u001b[0m\u001b[0m\n\u001b[1;32m      6\u001b[0m \u001b[0;34m\u001b[0m\u001b[0m\n\u001b[0;32m----> 7\u001b[0;31m       \u001b[0mlayers\u001b[0m \u001b[0;34m=\u001b[0m \u001b[0;34m[\u001b[0m\u001b[0mself\u001b[0m\u001b[0;34m.\u001b[0m\u001b[0mnum_inputs\u001b[0m\u001b[0;34m]\u001b[0m \u001b[0;34m+\u001b[0m \u001b[0;34m[\u001b[0m\u001b[0mself\u001b[0m\u001b[0;34m.\u001b[0m\u001b[0mnum_hidden\u001b[0m\u001b[0;34m]\u001b[0m \u001b[0;34m+\u001b[0m \u001b[0;34m[\u001b[0m\u001b[0mself\u001b[0m\u001b[0;34m.\u001b[0m\u001b[0mnum_outputs\u001b[0m\u001b[0;34m]\u001b[0m \u001b[0;31m#getting a list where each items represents  number of neurons in a layer\u001b[0m\u001b[0;34m\u001b[0m\u001b[0;34m\u001b[0m\u001b[0m\n\u001b[0m\u001b[1;32m      8\u001b[0m \u001b[0;34m\u001b[0m\u001b[0m\n\u001b[1;32m      9\u001b[0m       \u001b[0;31m#initiate random weights ( a neural networks needs random weights in the connections)\u001b[0m\u001b[0;34m\u001b[0m\u001b[0;34m\u001b[0m\u001b[0m\n",
            "\u001b[0;31mAttributeError\u001b[0m: 'MLP' object has no attribute 'num_outputs'"
          ]
        }
      ]
    },
    {
      "cell_type": "code",
      "source": [
        "class MLP(object):\n",
        "\n",
        "    \"\"\"A Multilayer Perceptron class.\n",
        "    \"\"\"\n",
        "\n",
        "    def __init__(self, num_inputs=3, hidden_layers=[3, 3], num_outputs=2):\n",
        "        \"\"\"Constructor for the MLP. Takes the number of inputs,\n",
        "            a variable number of hidden layers, and number of outputs\n",
        "\n",
        "        Args:\n",
        "            num_inputs (int): Number of inputs\n",
        "            hidden_layers (list): A list of ints for the hidden layers\n",
        "            num_outputs (int): Number of outputs\n",
        "        \"\"\"\n",
        "\n",
        "        self.num_inputs = num_inputs\n",
        "        self.hidden_layers = hidden_layers\n",
        "        self.num_outputs = num_outputs\n",
        "\n",
        "        # create a generic representation of the layers\n",
        "        layers = [num_inputs] + hidden_layers + [num_outputs]\n",
        "\n",
        "        # create random connection weights for the layers\n",
        "        weights = []\n",
        "        for i in range(len(layers)-1):\n",
        "            w = np.random.rand(layers[i], layers[i+1])\n",
        "            weights.append(w)\n",
        "        self.weights = weights\n",
        "\n",
        "\n",
        "    def forward_propagate(self, inputs):\n",
        "        \"\"\"Computes forward propagation of the network based on input signals.\n",
        "\n",
        "        Args:\n",
        "            inputs (ndarray): Input signals\n",
        "        Returns:\n",
        "            activations (ndarray): Output values\n",
        "        \"\"\"\n",
        "\n",
        "        # the input layer activation is just the input itself\n",
        "        activations = inputs\n",
        "\n",
        "        # iterate through the network layers\n",
        "        for w in self.weights:\n",
        "\n",
        "            # calculate matrix multiplication between previous activation and weight matrix\n",
        "            net_inputs = np.dot(activations, w)\n",
        "\n",
        "            # apply sigmoid activation function\n",
        "            activations = self._sigmoid(net_inputs)\n",
        "\n",
        "        # return output layer activation\n",
        "        return activations\n",
        "\n",
        "\n",
        "    def _sigmoid(self, x):\n",
        "        \"\"\"Sigmoid activation function\n",
        "        Args:\n",
        "            x (float): Value to be processed\n",
        "        Returns:\n",
        "            y (float): Output\n",
        "        \"\"\"\n",
        "\n",
        "        y = 1.0 / (1 + np.exp(-x))\n",
        "        return y\n"
      ],
      "metadata": {
        "id": "AwD9OjPgr_FB"
      },
      "execution_count": 11,
      "outputs": []
    },
    {
      "cell_type": "code",
      "source": [
        "\n",
        "\n",
        "    # create a Multilayer Perceptron\n",
        "    mlp = MLP()\n",
        "\n",
        "    # set random values for network's input\n",
        "    inputs = np.random.rand(mlp.num_inputs)\n",
        "\n",
        "    # perform forward propagation\n",
        "    output = mlp.forward_propagate(inputs)\n",
        "    print(\"input is {}\".format(inputs))\n",
        "    print(\"Network activation: {}\".format(output))"
      ],
      "metadata": {
        "colab": {
          "base_uri": "https://localhost:8080/"
        },
        "id": "R0-buLNOr5DI",
        "outputId": "9f5c4439-83f3-4621-f357-ce483eabac81"
      },
      "execution_count": 16,
      "outputs": [
        {
          "output_type": "stream",
          "name": "stdout",
          "text": [
            "input is [0.37046161 0.0626618  0.57167431]\n",
            "Network activation: [0.8316301  0.87180444]\n"
          ]
        }
      ]
    }
  ]
}